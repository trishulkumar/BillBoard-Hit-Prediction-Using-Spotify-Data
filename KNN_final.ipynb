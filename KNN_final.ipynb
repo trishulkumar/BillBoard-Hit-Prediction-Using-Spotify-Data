{
 "cells": [
  {
   "cell_type": "code",
   "execution_count": null,
   "metadata": {},
   "outputs": [],
   "source": []
  },
  {
   "cell_type": "code",
   "execution_count": 1,
   "metadata": {},
   "outputs": [],
   "source": [
    "##Importing Required Libraries\n",
    "\n",
    "import pandas as pd\n",
    "import warnings\n",
    "warnings.filterwarnings('ignore')\n",
    "import numpy as np\n",
    "import matplotlib.pyplot as plt\n",
    "%matplotlib inline\n",
    "import seaborn as sns\n",
    "\n",
    "from sklearn.preprocessing import MinMaxScaler\n",
    "from sklearn.model_selection import train_test_split\n",
    "from sklearn.linear_model import LogisticRegression\n",
    "from sklearn.tree import DecisionTreeClassifier\n",
    "from sklearn.neighbors import KNeighborsClassifier\n",
    "from sklearn.metrics import r2_score, explained_variance_score, confusion_matrix, accuracy_score, classification_report, log_loss\n",
    "from sklearn.metrics import roc_auc_score,roc_curve,auc\n",
    "import pickle"
   ]
  },
  {
   "cell_type": "code",
   "execution_count": 2,
   "metadata": {
    "colab": {
     "base_uri": "https://localhost:8080/",
     "height": 204
    },
    "id": "R-Pd82rp-ZZI",
    "outputId": "badddbe1-5a66-4b5d-8bcb-8838a9e74604"
   },
   "outputs": [
    {
     "data": {
      "text/html": [
       "<div>\n",
       "<style scoped>\n",
       "    .dataframe tbody tr th:only-of-type {\n",
       "        vertical-align: middle;\n",
       "    }\n",
       "\n",
       "    .dataframe tbody tr th {\n",
       "        vertical-align: top;\n",
       "    }\n",
       "\n",
       "    .dataframe thead th {\n",
       "        text-align: right;\n",
       "    }\n",
       "</style>\n",
       "<table border=\"1\" class=\"dataframe\">\n",
       "  <thead>\n",
       "    <tr style=\"text-align: right;\">\n",
       "      <th></th>\n",
       "      <th>Unnamed: 0</th>\n",
       "      <th>Danceability</th>\n",
       "      <th>Energy</th>\n",
       "      <th>Loudness</th>\n",
       "      <th>Speechiness</th>\n",
       "      <th>Acousticness</th>\n",
       "      <th>Instrumentalness</th>\n",
       "      <th>Liveness</th>\n",
       "      <th>Valence</th>\n",
       "      <th>Tempo</th>\n",
       "      <th>Genre</th>\n",
       "      <th>Top100</th>\n",
       "    </tr>\n",
       "  </thead>\n",
       "  <tbody>\n",
       "    <tr>\n",
       "      <th>0</th>\n",
       "      <td>0</td>\n",
       "      <td>0.556</td>\n",
       "      <td>0.864</td>\n",
       "      <td>-5.870</td>\n",
       "      <td>0.0584</td>\n",
       "      <td>0.009580</td>\n",
       "      <td>0.000000</td>\n",
       "      <td>0.209</td>\n",
       "      <td>0.400</td>\n",
       "      <td>105.143</td>\n",
       "      <td>5</td>\n",
       "      <td>0</td>\n",
       "    </tr>\n",
       "    <tr>\n",
       "      <th>1</th>\n",
       "      <td>1</td>\n",
       "      <td>0.737</td>\n",
       "      <td>0.463</td>\n",
       "      <td>-7.828</td>\n",
       "      <td>0.0792</td>\n",
       "      <td>0.008170</td>\n",
       "      <td>0.447000</td>\n",
       "      <td>0.255</td>\n",
       "      <td>0.324</td>\n",
       "      <td>123.881</td>\n",
       "      <td>9</td>\n",
       "      <td>0</td>\n",
       "    </tr>\n",
       "    <tr>\n",
       "      <th>2</th>\n",
       "      <td>2</td>\n",
       "      <td>0.618</td>\n",
       "      <td>0.938</td>\n",
       "      <td>-3.442</td>\n",
       "      <td>0.0456</td>\n",
       "      <td>0.017900</td>\n",
       "      <td>0.000000</td>\n",
       "      <td>0.167</td>\n",
       "      <td>0.875</td>\n",
       "      <td>91.455</td>\n",
       "      <td>9</td>\n",
       "      <td>0</td>\n",
       "    </tr>\n",
       "    <tr>\n",
       "      <th>3</th>\n",
       "      <td>3</td>\n",
       "      <td>0.331</td>\n",
       "      <td>0.943</td>\n",
       "      <td>-3.188</td>\n",
       "      <td>0.0698</td>\n",
       "      <td>0.007210</td>\n",
       "      <td>0.000002</td>\n",
       "      <td>0.242</td>\n",
       "      <td>0.296</td>\n",
       "      <td>94.612</td>\n",
       "      <td>0</td>\n",
       "      <td>0</td>\n",
       "    </tr>\n",
       "    <tr>\n",
       "      <th>4</th>\n",
       "      <td>4</td>\n",
       "      <td>0.589</td>\n",
       "      <td>0.890</td>\n",
       "      <td>-3.719</td>\n",
       "      <td>0.0603</td>\n",
       "      <td>0.000481</td>\n",
       "      <td>0.000820</td>\n",
       "      <td>0.201</td>\n",
       "      <td>0.692</td>\n",
       "      <td>90.598</td>\n",
       "      <td>5</td>\n",
       "      <td>0</td>\n",
       "    </tr>\n",
       "  </tbody>\n",
       "</table>\n",
       "</div>"
      ],
      "text/plain": [
       "   Unnamed: 0  Danceability  Energy  Loudness  Speechiness  Acousticness  \\\n",
       "0           0         0.556   0.864    -5.870       0.0584      0.009580   \n",
       "1           1         0.737   0.463    -7.828       0.0792      0.008170   \n",
       "2           2         0.618   0.938    -3.442       0.0456      0.017900   \n",
       "3           3         0.331   0.943    -3.188       0.0698      0.007210   \n",
       "4           4         0.589   0.890    -3.719       0.0603      0.000481   \n",
       "\n",
       "   Instrumentalness  Liveness  Valence    Tempo  Genre  Top100  \n",
       "0          0.000000     0.209    0.400  105.143      5       0  \n",
       "1          0.447000     0.255    0.324  123.881      9       0  \n",
       "2          0.000000     0.167    0.875   91.455      9       0  \n",
       "3          0.000002     0.242    0.296   94.612      0       0  \n",
       "4          0.000820     0.201    0.692   90.598      5       0  "
      ]
     },
     "execution_count": 2,
     "metadata": {},
     "output_type": "execute_result"
    }
   ],
   "source": [
    "import pandas as pd\n",
    "data=pd.read_csv('final_dataset.csv')\n",
    "data.head()\n",
    "# having a glance at data "
   ]
  },
  {
   "cell_type": "code",
   "execution_count": 3,
   "metadata": {
    "colab": {
     "base_uri": "https://localhost:8080/",
     "height": 204
    },
    "id": "UH0xnnRE-gGV",
    "outputId": "13de3697-776d-4f3d-d20d-c00fcdbee381"
   },
   "outputs": [
    {
     "data": {
      "text/html": [
       "<div>\n",
       "<style scoped>\n",
       "    .dataframe tbody tr th:only-of-type {\n",
       "        vertical-align: middle;\n",
       "    }\n",
       "\n",
       "    .dataframe tbody tr th {\n",
       "        vertical-align: top;\n",
       "    }\n",
       "\n",
       "    .dataframe thead th {\n",
       "        text-align: right;\n",
       "    }\n",
       "</style>\n",
       "<table border=\"1\" class=\"dataframe\">\n",
       "  <thead>\n",
       "    <tr style=\"text-align: right;\">\n",
       "      <th></th>\n",
       "      <th>Danceability</th>\n",
       "      <th>Energy</th>\n",
       "      <th>Loudness</th>\n",
       "      <th>Speechiness</th>\n",
       "      <th>Acousticness</th>\n",
       "      <th>Instrumentalness</th>\n",
       "      <th>Liveness</th>\n",
       "      <th>Valence</th>\n",
       "      <th>Tempo</th>\n",
       "      <th>Genre</th>\n",
       "      <th>Top100</th>\n",
       "    </tr>\n",
       "  </thead>\n",
       "  <tbody>\n",
       "    <tr>\n",
       "      <th>0</th>\n",
       "      <td>0.556</td>\n",
       "      <td>0.864</td>\n",
       "      <td>-5.870</td>\n",
       "      <td>0.0584</td>\n",
       "      <td>0.009580</td>\n",
       "      <td>0.000000</td>\n",
       "      <td>0.209</td>\n",
       "      <td>0.400</td>\n",
       "      <td>105.143</td>\n",
       "      <td>5</td>\n",
       "      <td>0</td>\n",
       "    </tr>\n",
       "    <tr>\n",
       "      <th>1</th>\n",
       "      <td>0.737</td>\n",
       "      <td>0.463</td>\n",
       "      <td>-7.828</td>\n",
       "      <td>0.0792</td>\n",
       "      <td>0.008170</td>\n",
       "      <td>0.447000</td>\n",
       "      <td>0.255</td>\n",
       "      <td>0.324</td>\n",
       "      <td>123.881</td>\n",
       "      <td>9</td>\n",
       "      <td>0</td>\n",
       "    </tr>\n",
       "    <tr>\n",
       "      <th>2</th>\n",
       "      <td>0.618</td>\n",
       "      <td>0.938</td>\n",
       "      <td>-3.442</td>\n",
       "      <td>0.0456</td>\n",
       "      <td>0.017900</td>\n",
       "      <td>0.000000</td>\n",
       "      <td>0.167</td>\n",
       "      <td>0.875</td>\n",
       "      <td>91.455</td>\n",
       "      <td>9</td>\n",
       "      <td>0</td>\n",
       "    </tr>\n",
       "    <tr>\n",
       "      <th>3</th>\n",
       "      <td>0.331</td>\n",
       "      <td>0.943</td>\n",
       "      <td>-3.188</td>\n",
       "      <td>0.0698</td>\n",
       "      <td>0.007210</td>\n",
       "      <td>0.000002</td>\n",
       "      <td>0.242</td>\n",
       "      <td>0.296</td>\n",
       "      <td>94.612</td>\n",
       "      <td>0</td>\n",
       "      <td>0</td>\n",
       "    </tr>\n",
       "    <tr>\n",
       "      <th>4</th>\n",
       "      <td>0.589</td>\n",
       "      <td>0.890</td>\n",
       "      <td>-3.719</td>\n",
       "      <td>0.0603</td>\n",
       "      <td>0.000481</td>\n",
       "      <td>0.000820</td>\n",
       "      <td>0.201</td>\n",
       "      <td>0.692</td>\n",
       "      <td>90.598</td>\n",
       "      <td>5</td>\n",
       "      <td>0</td>\n",
       "    </tr>\n",
       "  </tbody>\n",
       "</table>\n",
       "</div>"
      ],
      "text/plain": [
       "   Danceability  Energy  Loudness  Speechiness  Acousticness  \\\n",
       "0         0.556   0.864    -5.870       0.0584      0.009580   \n",
       "1         0.737   0.463    -7.828       0.0792      0.008170   \n",
       "2         0.618   0.938    -3.442       0.0456      0.017900   \n",
       "3         0.331   0.943    -3.188       0.0698      0.007210   \n",
       "4         0.589   0.890    -3.719       0.0603      0.000481   \n",
       "\n",
       "   Instrumentalness  Liveness  Valence    Tempo  Genre  Top100  \n",
       "0          0.000000     0.209    0.400  105.143      5       0  \n",
       "1          0.447000     0.255    0.324  123.881      9       0  \n",
       "2          0.000000     0.167    0.875   91.455      9       0  \n",
       "3          0.000002     0.242    0.296   94.612      0       0  \n",
       "4          0.000820     0.201    0.692   90.598      5       0  "
      ]
     },
     "execution_count": 3,
     "metadata": {},
     "output_type": "execute_result"
    }
   ],
   "source": [
    "# Removing unnecessary column named \"Unnamed: 0\"\n",
    "data.drop('Unnamed: 0',axis=1,inplace=True)\n",
    "data.head()\n",
    "#checking whether it is droped or not!"
   ]
  },
  {
   "cell_type": "code",
   "execution_count": 4,
   "metadata": {
    "colab": {
     "base_uri": "https://localhost:8080/",
     "height": 297
    },
    "id": "TyqHEjOyKjFo",
    "outputId": "39988d73-d156-4f4f-875f-ca496968a5f4"
   },
   "outputs": [
    {
     "data": {
      "text/html": [
       "<div>\n",
       "<style scoped>\n",
       "    .dataframe tbody tr th:only-of-type {\n",
       "        vertical-align: middle;\n",
       "    }\n",
       "\n",
       "    .dataframe tbody tr th {\n",
       "        vertical-align: top;\n",
       "    }\n",
       "\n",
       "    .dataframe thead th {\n",
       "        text-align: right;\n",
       "    }\n",
       "</style>\n",
       "<table border=\"1\" class=\"dataframe\">\n",
       "  <thead>\n",
       "    <tr style=\"text-align: right;\">\n",
       "      <th></th>\n",
       "      <th>Danceability</th>\n",
       "      <th>Energy</th>\n",
       "      <th>Loudness</th>\n",
       "      <th>Speechiness</th>\n",
       "      <th>Acousticness</th>\n",
       "      <th>Instrumentalness</th>\n",
       "      <th>Liveness</th>\n",
       "      <th>Valence</th>\n",
       "      <th>Tempo</th>\n",
       "      <th>Genre</th>\n",
       "      <th>Top100</th>\n",
       "    </tr>\n",
       "  </thead>\n",
       "  <tbody>\n",
       "    <tr>\n",
       "      <th>count</th>\n",
       "      <td>8652.000000</td>\n",
       "      <td>8652.000000</td>\n",
       "      <td>8652.000000</td>\n",
       "      <td>8652.000000</td>\n",
       "      <td>8652.000000</td>\n",
       "      <td>8652.000000</td>\n",
       "      <td>8652.000000</td>\n",
       "      <td>8652.000000</td>\n",
       "      <td>8652.000000</td>\n",
       "      <td>8652.000000</td>\n",
       "      <td>8652.000000</td>\n",
       "    </tr>\n",
       "    <tr>\n",
       "      <th>mean</th>\n",
       "      <td>0.629263</td>\n",
       "      <td>0.668914</td>\n",
       "      <td>-6.899446</td>\n",
       "      <td>0.098110</td>\n",
       "      <td>0.221021</td>\n",
       "      <td>0.040536</td>\n",
       "      <td>0.181063</td>\n",
       "      <td>0.528754</td>\n",
       "      <td>121.364623</td>\n",
       "      <td>6.206657</td>\n",
       "      <td>0.173486</td>\n",
       "    </tr>\n",
       "    <tr>\n",
       "      <th>std</th>\n",
       "      <td>0.154437</td>\n",
       "      <td>0.202883</td>\n",
       "      <td>3.262754</td>\n",
       "      <td>0.097514</td>\n",
       "      <td>0.267346</td>\n",
       "      <td>0.150758</td>\n",
       "      <td>0.144034</td>\n",
       "      <td>0.239518</td>\n",
       "      <td>28.657971</td>\n",
       "      <td>1.834390</td>\n",
       "      <td>0.378689</td>\n",
       "    </tr>\n",
       "    <tr>\n",
       "      <th>min</th>\n",
       "      <td>0.061700</td>\n",
       "      <td>0.002890</td>\n",
       "      <td>-36.729000</td>\n",
       "      <td>0.022800</td>\n",
       "      <td>0.000001</td>\n",
       "      <td>0.000000</td>\n",
       "      <td>0.011900</td>\n",
       "      <td>0.024600</td>\n",
       "      <td>46.591000</td>\n",
       "      <td>0.000000</td>\n",
       "      <td>0.000000</td>\n",
       "    </tr>\n",
       "    <tr>\n",
       "      <th>25%</th>\n",
       "      <td>0.530000</td>\n",
       "      <td>0.535000</td>\n",
       "      <td>-8.307250</td>\n",
       "      <td>0.037000</td>\n",
       "      <td>0.017300</td>\n",
       "      <td>0.000000</td>\n",
       "      <td>0.092800</td>\n",
       "      <td>0.342000</td>\n",
       "      <td>98.523750</td>\n",
       "      <td>6.000000</td>\n",
       "      <td>0.000000</td>\n",
       "    </tr>\n",
       "    <tr>\n",
       "      <th>50%</th>\n",
       "      <td>0.638000</td>\n",
       "      <td>0.700000</td>\n",
       "      <td>-6.142000</td>\n",
       "      <td>0.054150</td>\n",
       "      <td>0.099850</td>\n",
       "      <td>0.000005</td>\n",
       "      <td>0.123000</td>\n",
       "      <td>0.526000</td>\n",
       "      <td>120.027500</td>\n",
       "      <td>6.000000</td>\n",
       "      <td>0.000000</td>\n",
       "    </tr>\n",
       "    <tr>\n",
       "      <th>75%</th>\n",
       "      <td>0.741000</td>\n",
       "      <td>0.831000</td>\n",
       "      <td>-4.696750</td>\n",
       "      <td>0.114000</td>\n",
       "      <td>0.335000</td>\n",
       "      <td>0.000778</td>\n",
       "      <td>0.228000</td>\n",
       "      <td>0.721250</td>\n",
       "      <td>139.929250</td>\n",
       "      <td>7.000000</td>\n",
       "      <td>0.000000</td>\n",
       "    </tr>\n",
       "    <tr>\n",
       "      <th>max</th>\n",
       "      <td>0.981000</td>\n",
       "      <td>0.997000</td>\n",
       "      <td>1.342000</td>\n",
       "      <td>0.869000</td>\n",
       "      <td>0.996000</td>\n",
       "      <td>0.982000</td>\n",
       "      <td>0.986000</td>\n",
       "      <td>0.982000</td>\n",
       "      <td>216.115000</td>\n",
       "      <td>9.000000</td>\n",
       "      <td>1.000000</td>\n",
       "    </tr>\n",
       "  </tbody>\n",
       "</table>\n",
       "</div>"
      ],
      "text/plain": [
       "       Danceability       Energy     Loudness  Speechiness  Acousticness  \\\n",
       "count   8652.000000  8652.000000  8652.000000  8652.000000   8652.000000   \n",
       "mean       0.629263     0.668914    -6.899446     0.098110      0.221021   \n",
       "std        0.154437     0.202883     3.262754     0.097514      0.267346   \n",
       "min        0.061700     0.002890   -36.729000     0.022800      0.000001   \n",
       "25%        0.530000     0.535000    -8.307250     0.037000      0.017300   \n",
       "50%        0.638000     0.700000    -6.142000     0.054150      0.099850   \n",
       "75%        0.741000     0.831000    -4.696750     0.114000      0.335000   \n",
       "max        0.981000     0.997000     1.342000     0.869000      0.996000   \n",
       "\n",
       "       Instrumentalness     Liveness      Valence        Tempo        Genre  \\\n",
       "count       8652.000000  8652.000000  8652.000000  8652.000000  8652.000000   \n",
       "mean           0.040536     0.181063     0.528754   121.364623     6.206657   \n",
       "std            0.150758     0.144034     0.239518    28.657971     1.834390   \n",
       "min            0.000000     0.011900     0.024600    46.591000     0.000000   \n",
       "25%            0.000000     0.092800     0.342000    98.523750     6.000000   \n",
       "50%            0.000005     0.123000     0.526000   120.027500     6.000000   \n",
       "75%            0.000778     0.228000     0.721250   139.929250     7.000000   \n",
       "max            0.982000     0.986000     0.982000   216.115000     9.000000   \n",
       "\n",
       "            Top100  \n",
       "count  8652.000000  \n",
       "mean      0.173486  \n",
       "std       0.378689  \n",
       "min       0.000000  \n",
       "25%       0.000000  \n",
       "50%       0.000000  \n",
       "75%       0.000000  \n",
       "max       1.000000  "
      ]
     },
     "execution_count": 4,
     "metadata": {},
     "output_type": "execute_result"
    }
   ],
   "source": [
    "data.describe()"
   ]
  },
  {
   "cell_type": "code",
   "execution_count": 5,
   "metadata": {
    "colab": {
     "base_uri": "https://localhost:8080/"
    },
    "id": "4DXIIvRf-nJq",
    "outputId": "64a8d7d6-272e-4c7e-a9bd-0eb31b9702c6"
   },
   "outputs": [
    {
     "data": {
      "text/plain": [
       "(8652, 11)"
      ]
     },
     "execution_count": 5,
     "metadata": {},
     "output_type": "execute_result"
    }
   ],
   "source": [
    "# Checkinng shape of dataset\n",
    "data.shape"
   ]
  },
  {
   "cell_type": "code",
   "execution_count": 6,
   "metadata": {
    "colab": {
     "base_uri": "https://localhost:8080/"
    },
    "id": "KVHnhFGT-nec",
    "outputId": "70cc1410-e96f-467d-f325-1b709f09440b"
   },
   "outputs": [
    {
     "data": {
      "text/plain": [
       "<bound method DataFrame.info of       Danceability  Energy  Loudness  Speechiness  Acousticness  \\\n",
       "0            0.556   0.864    -5.870       0.0584      0.009580   \n",
       "1            0.737   0.463    -7.828       0.0792      0.008170   \n",
       "2            0.618   0.938    -3.442       0.0456      0.017900   \n",
       "3            0.331   0.943    -3.188       0.0698      0.007210   \n",
       "4            0.589   0.890    -3.719       0.0603      0.000481   \n",
       "...            ...     ...       ...          ...           ...   \n",
       "8647         0.783   0.840    -3.416       0.0510      0.174000   \n",
       "8648         0.669   0.308   -10.068       0.0290      0.883000   \n",
       "8649         0.544   0.781    -6.160       0.0311      0.005850   \n",
       "8650         0.713   0.831    -4.750       0.1500      0.016800   \n",
       "8651         0.836   0.544    -5.975       0.0943      0.040300   \n",
       "\n",
       "      Instrumentalness  Liveness  Valence    Tempo  Genre  Top100  \n",
       "0             0.000000    0.2090    0.400  105.143      5       0  \n",
       "1             0.447000    0.2550    0.324  123.881      9       0  \n",
       "2             0.000000    0.1670    0.875   91.455      9       0  \n",
       "3             0.000002    0.2420    0.296   94.612      0       0  \n",
       "4             0.000820    0.2010    0.692   90.598      5       0  \n",
       "...                ...       ...      ...      ...    ...     ...  \n",
       "8647          0.000000    0.4120    0.839   95.001      8       1  \n",
       "8648          0.000000    0.0984    0.520   64.934      7       1  \n",
       "8649          0.000000    0.1910    0.527  144.075      2       1  \n",
       "8650          0.000000    0.1180    0.584  173.948      7       1  \n",
       "8651          0.000000    0.0824    0.510   97.028      6       1  \n",
       "\n",
       "[8652 rows x 11 columns]>"
      ]
     },
     "execution_count": 6,
     "metadata": {},
     "output_type": "execute_result"
    }
   ],
   "source": [
    "data.info"
   ]
  },
  {
   "cell_type": "code",
   "execution_count": 7,
   "metadata": {
    "colab": {
     "base_uri": "https://localhost:8080/",
     "height": 296
    },
    "id": "QFvJcb73-3Eq",
    "outputId": "8e67311c-6a97-4600-ecbb-63ecf1d18eac"
   },
   "outputs": [
    {
     "data": {
      "text/plain": [
       "<AxesSubplot:xlabel='Top100', ylabel='count'>"
      ]
     },
     "execution_count": 7,
     "metadata": {},
     "output_type": "execute_result"
    },
    {
     "data": {
      "image/png": "[encoded data removed]",
      "text/plain": [
       "<Figure size 432x288 with 1 Axes>"
      ]
     },
     "metadata": {
      "needs_background": "light"
     },
     "output_type": "display_data"
    }
   ],
   "source": [
    "# Plotting graph of Top100\n",
    "sns.countplot(x=\"Top100\",data=data,palette=\"Set3\")"
   ]
  },
  {
   "cell_type": "code",
   "execution_count": 8,
   "metadata": {
    "colab": {
     "base_uri": "https://localhost:8080/"
    },
    "id": "2FvjY4g6-6N9",
    "outputId": "60857208-9188-4a40-c535-7badcf6f1e25"
   },
   "outputs": [
    {
     "data": {
      "text/plain": [
       "0    7151\n",
       "1    1501\n",
       "Name: Top100, dtype: int64"
      ]
     },
     "execution_count": 8,
     "metadata": {},
     "output_type": "execute_result"
    }
   ],
   "source": [
    "data['Top100'].value_counts()"
   ]
  },
  {
   "cell_type": "code",
   "execution_count": 9,
   "metadata": {
    "id": "RgQNPaFd-8om"
   },
   "outputs": [],
   "source": [
    "# Splitting the data into X and y\n",
    "X=data.drop(\"Top100\",axis=1)    # excluding output column\n",
    "y=data[\"Top100\"]"
   ]
  },
  {
   "cell_type": "code",
   "execution_count": 10,
   "metadata": {
    "colab": {
     "base_uri": "https://localhost:8080/",
     "height": 204
    },
    "id": "6Yyr1RTx--s6",
    "outputId": "f7ccfeb8-a441-4cf0-9dbd-015d5f9a3065"
   },
   "outputs": [
    {
     "data": {
      "text/html": [
       "<div>\n",
       "<style scoped>\n",
       "    .dataframe tbody tr th:only-of-type {\n",
       "        vertical-align: middle;\n",
       "    }\n",
       "\n",
       "    .dataframe tbody tr th {\n",
       "        vertical-align: top;\n",
       "    }\n",
       "\n",
       "    .dataframe thead th {\n",
       "        text-align: right;\n",
       "    }\n",
       "</style>\n",
       "<table border=\"1\" class=\"dataframe\">\n",
       "  <thead>\n",
       "    <tr style=\"text-align: right;\">\n",
       "      <th></th>\n",
       "      <th>Danceability</th>\n",
       "      <th>Energy</th>\n",
       "      <th>Loudness</th>\n",
       "      <th>Speechiness</th>\n",
       "      <th>Acousticness</th>\n",
       "      <th>Instrumentalness</th>\n",
       "      <th>Liveness</th>\n",
       "      <th>Valence</th>\n",
       "      <th>Tempo</th>\n",
       "      <th>Genre</th>\n",
       "    </tr>\n",
       "  </thead>\n",
       "  <tbody>\n",
       "    <tr>\n",
       "      <th>0</th>\n",
       "      <td>0.556</td>\n",
       "      <td>0.864</td>\n",
       "      <td>-5.870</td>\n",
       "      <td>0.0584</td>\n",
       "      <td>0.009580</td>\n",
       "      <td>0.000000</td>\n",
       "      <td>0.209</td>\n",
       "      <td>0.400</td>\n",
       "      <td>105.143</td>\n",
       "      <td>5</td>\n",
       "    </tr>\n",
       "    <tr>\n",
       "      <th>1</th>\n",
       "      <td>0.737</td>\n",
       "      <td>0.463</td>\n",
       "      <td>-7.828</td>\n",
       "      <td>0.0792</td>\n",
       "      <td>0.008170</td>\n",
       "      <td>0.447000</td>\n",
       "      <td>0.255</td>\n",
       "      <td>0.324</td>\n",
       "      <td>123.881</td>\n",
       "      <td>9</td>\n",
       "    </tr>\n",
       "    <tr>\n",
       "      <th>2</th>\n",
       "      <td>0.618</td>\n",
       "      <td>0.938</td>\n",
       "      <td>-3.442</td>\n",
       "      <td>0.0456</td>\n",
       "      <td>0.017900</td>\n",
       "      <td>0.000000</td>\n",
       "      <td>0.167</td>\n",
       "      <td>0.875</td>\n",
       "      <td>91.455</td>\n",
       "      <td>9</td>\n",
       "    </tr>\n",
       "    <tr>\n",
       "      <th>3</th>\n",
       "      <td>0.331</td>\n",
       "      <td>0.943</td>\n",
       "      <td>-3.188</td>\n",
       "      <td>0.0698</td>\n",
       "      <td>0.007210</td>\n",
       "      <td>0.000002</td>\n",
       "      <td>0.242</td>\n",
       "      <td>0.296</td>\n",
       "      <td>94.612</td>\n",
       "      <td>0</td>\n",
       "    </tr>\n",
       "    <tr>\n",
       "      <th>4</th>\n",
       "      <td>0.589</td>\n",
       "      <td>0.890</td>\n",
       "      <td>-3.719</td>\n",
       "      <td>0.0603</td>\n",
       "      <td>0.000481</td>\n",
       "      <td>0.000820</td>\n",
       "      <td>0.201</td>\n",
       "      <td>0.692</td>\n",
       "      <td>90.598</td>\n",
       "      <td>5</td>\n",
       "    </tr>\n",
       "  </tbody>\n",
       "</table>\n",
       "</div>"
      ],
      "text/plain": [
       "   Danceability  Energy  Loudness  Speechiness  Acousticness  \\\n",
       "0         0.556   0.864    -5.870       0.0584      0.009580   \n",
       "1         0.737   0.463    -7.828       0.0792      0.008170   \n",
       "2         0.618   0.938    -3.442       0.0456      0.017900   \n",
       "3         0.331   0.943    -3.188       0.0698      0.007210   \n",
       "4         0.589   0.890    -3.719       0.0603      0.000481   \n",
       "\n",
       "   Instrumentalness  Liveness  Valence    Tempo  Genre  \n",
       "0          0.000000     0.209    0.400  105.143      5  \n",
       "1          0.447000     0.255    0.324  123.881      9  \n",
       "2          0.000000     0.167    0.875   91.455      9  \n",
       "3          0.000002     0.242    0.296   94.612      0  \n",
       "4          0.000820     0.201    0.692   90.598      5  "
      ]
     },
     "execution_count": 10,
     "metadata": {},
     "output_type": "execute_result"
    }
   ],
   "source": [
    "X.head()"
   ]
  },
  {
   "cell_type": "code",
   "execution_count": 11,
   "metadata": {
    "colab": {
     "base_uri": "https://localhost:8080/"
    },
    "id": "Ibh60J24_H4B",
    "outputId": "5c95d654-2420-4be6-88e0-c79ad582348d"
   },
   "outputs": [
    {
     "data": {
      "text/plain": [
       "(8652, 10)"
      ]
     },
     "execution_count": 11,
     "metadata": {},
     "output_type": "execute_result"
    }
   ],
   "source": [
    "X.shape"
   ]
  },
  {
   "cell_type": "code",
   "execution_count": 12,
   "metadata": {
    "colab": {
     "base_uri": "https://localhost:8080/"
    },
    "id": "A81Om7by_C73",
    "outputId": "7adb1e17-0c4c-4d2a-ce3a-4401bb88a5bf"
   },
   "outputs": [
    {
     "data": {
      "text/plain": [
       "0    0\n",
       "1    0\n",
       "2    0\n",
       "3    0\n",
       "4    0\n",
       "Name: Top100, dtype: int64"
      ]
     },
     "execution_count": 12,
     "metadata": {},
     "output_type": "execute_result"
    }
   ],
   "source": [
    "y.head()"
   ]
  },
  {
   "cell_type": "code",
   "execution_count": 13,
   "metadata": {
    "colab": {
     "base_uri": "https://localhost:8080/"
    },
    "id": "KtnRJrq__D9e",
    "outputId": "05b1a720-85f5-4131-f175-d63b13ad411d"
   },
   "outputs": [
    {
     "data": {
      "text/plain": [
       "(8652,)"
      ]
     },
     "execution_count": 13,
     "metadata": {},
     "output_type": "execute_result"
    }
   ],
   "source": [
    "y.shape"
   ]
  },
  {
   "cell_type": "code",
   "execution_count": 14,
   "metadata": {},
   "outputs": [
    {
     "name": "stdout",
     "output_type": "stream",
     "text": [
      "Windows-10-10.0.19041-SP0\n",
      "Python 3.8.8 (default, Apr 13 2021, 15:08:03) [MSC v.1916 64 bit (AMD64)]\n",
      "NumPy 1.21.1\n",
      "SciPy 1.6.2\n",
      "Scikit-Learn 0.24.2\n"
     ]
    }
   ],
   "source": [
    "import platform; print(platform.platform())\n",
    "import sys; print(\"Python\", sys.version)\n",
    "import numpy; print(\"NumPy\", numpy.__version__)\n",
    "import scipy; print(\"SciPy\", scipy.__version__)\n",
    "import sklearn; print(\"Scikit-Learn\", sklearn.__version__)"
   ]
  },
  {
   "cell_type": "code",
   "execution_count": 15,
   "metadata": {
    "colab": {
     "base_uri": "https://localhost:8080/"
    },
    "id": "FtdP0iyG_K70",
    "outputId": "9cb03fbe-de86-44db-f0ca-01b3fa17aff9"
   },
   "outputs": [
    {
     "data": {
      "text/plain": [
       "((14302, 10), (14302,))"
      ]
     },
     "execution_count": 15,
     "metadata": {},
     "output_type": "execute_result"
    }
   ],
   "source": [
    "# Applying SMOTE: to balance the dataset\n",
    "\n",
    "from imblearn.over_sampling import SMOTE\n",
    "smote=SMOTE(sampling_strategy=\"minority\")\n",
    "X_sm,y_sm=smote.fit_resample(X,y)\n",
    "X_sm.shape,y_sm.shape "
   ]
  },
  {
   "cell_type": "code",
   "execution_count": 16,
   "metadata": {
    "colab": {
     "base_uri": "https://localhost:8080/"
    },
    "id": "g0LYgu5E_NCG",
    "outputId": "e3cf7b48-a35c-48dc-d615-47bccce8c18e"
   },
   "outputs": [
    {
     "data": {
      "text/plain": [
       "((14302, 10), (14302,))"
      ]
     },
     "execution_count": 16,
     "metadata": {},
     "output_type": "execute_result"
    }
   ],
   "source": [
    "# Checking the shape again after applying smote\n",
    "X_sm.shape,y_sm.shape"
   ]
  },
  {
   "cell_type": "code",
   "execution_count": 17,
   "metadata": {
    "colab": {
     "base_uri": "https://localhost:8080/"
    },
    "id": "pkuFoWiP_PMk",
    "outputId": "41e77681-2428-4a4e-9e0c-cd46ceae1eb2"
   },
   "outputs": [
    {
     "data": {
      "text/plain": [
       "Index(['Danceability', 'Energy', 'Loudness', 'Speechiness', 'Acousticness',\n",
       "       'Instrumentalness', 'Liveness', 'Valence', 'Tempo', 'Genre', 'Top100'],\n",
       "      dtype='object')"
      ]
     },
     "execution_count": 17,
     "metadata": {},
     "output_type": "execute_result"
    }
   ],
   "source": [
    "data.columns"
   ]
  },
  {
   "cell_type": "code",
   "execution_count": 18,
   "metadata": {
    "colab": {
     "base_uri": "https://localhost:8080/",
     "height": 204
    },
    "id": "0ClaaLAi_Q-j",
    "outputId": "7eb1289d-bcba-490a-b561-8d626e452c3c"
   },
   "outputs": [
    {
     "data": {
      "text/html": [
       "<div>\n",
       "<style scoped>\n",
       "    .dataframe tbody tr th:only-of-type {\n",
       "        vertical-align: middle;\n",
       "    }\n",
       "\n",
       "    .dataframe tbody tr th {\n",
       "        vertical-align: top;\n",
       "    }\n",
       "\n",
       "    .dataframe thead th {\n",
       "        text-align: right;\n",
       "    }\n",
       "</style>\n",
       "<table border=\"1\" class=\"dataframe\">\n",
       "  <thead>\n",
       "    <tr style=\"text-align: right;\">\n",
       "      <th></th>\n",
       "      <th>Danceability</th>\n",
       "      <th>Energy</th>\n",
       "      <th>Loudness</th>\n",
       "      <th>Speechiness</th>\n",
       "      <th>Acousticness</th>\n",
       "      <th>Instrumentalness</th>\n",
       "      <th>Liveness</th>\n",
       "      <th>Valence</th>\n",
       "      <th>Tempo</th>\n",
       "      <th>Genre</th>\n",
       "    </tr>\n",
       "  </thead>\n",
       "  <tbody>\n",
       "    <tr>\n",
       "      <th>0</th>\n",
       "      <td>0.556</td>\n",
       "      <td>0.864</td>\n",
       "      <td>-5.870</td>\n",
       "      <td>0.0584</td>\n",
       "      <td>0.009580</td>\n",
       "      <td>0.000000</td>\n",
       "      <td>0.209</td>\n",
       "      <td>0.400</td>\n",
       "      <td>105.143</td>\n",
       "      <td>5</td>\n",
       "    </tr>\n",
       "    <tr>\n",
       "      <th>1</th>\n",
       "      <td>0.737</td>\n",
       "      <td>0.463</td>\n",
       "      <td>-7.828</td>\n",
       "      <td>0.0792</td>\n",
       "      <td>0.008170</td>\n",
       "      <td>0.447000</td>\n",
       "      <td>0.255</td>\n",
       "      <td>0.324</td>\n",
       "      <td>123.881</td>\n",
       "      <td>9</td>\n",
       "    </tr>\n",
       "    <tr>\n",
       "      <th>2</th>\n",
       "      <td>0.618</td>\n",
       "      <td>0.938</td>\n",
       "      <td>-3.442</td>\n",
       "      <td>0.0456</td>\n",
       "      <td>0.017900</td>\n",
       "      <td>0.000000</td>\n",
       "      <td>0.167</td>\n",
       "      <td>0.875</td>\n",
       "      <td>91.455</td>\n",
       "      <td>9</td>\n",
       "    </tr>\n",
       "    <tr>\n",
       "      <th>3</th>\n",
       "      <td>0.331</td>\n",
       "      <td>0.943</td>\n",
       "      <td>-3.188</td>\n",
       "      <td>0.0698</td>\n",
       "      <td>0.007210</td>\n",
       "      <td>0.000002</td>\n",
       "      <td>0.242</td>\n",
       "      <td>0.296</td>\n",
       "      <td>94.612</td>\n",
       "      <td>0</td>\n",
       "    </tr>\n",
       "    <tr>\n",
       "      <th>4</th>\n",
       "      <td>0.589</td>\n",
       "      <td>0.890</td>\n",
       "      <td>-3.719</td>\n",
       "      <td>0.0603</td>\n",
       "      <td>0.000481</td>\n",
       "      <td>0.000820</td>\n",
       "      <td>0.201</td>\n",
       "      <td>0.692</td>\n",
       "      <td>90.598</td>\n",
       "      <td>5</td>\n",
       "    </tr>\n",
       "  </tbody>\n",
       "</table>\n",
       "</div>"
      ],
      "text/plain": [
       "   Danceability  Energy  Loudness  Speechiness  Acousticness  \\\n",
       "0         0.556   0.864    -5.870       0.0584      0.009580   \n",
       "1         0.737   0.463    -7.828       0.0792      0.008170   \n",
       "2         0.618   0.938    -3.442       0.0456      0.017900   \n",
       "3         0.331   0.943    -3.188       0.0698      0.007210   \n",
       "4         0.589   0.890    -3.719       0.0603      0.000481   \n",
       "\n",
       "   Instrumentalness  Liveness  Valence    Tempo  Genre  \n",
       "0          0.000000     0.209    0.400  105.143      5  \n",
       "1          0.447000     0.255    0.324  123.881      9  \n",
       "2          0.000000     0.167    0.875   91.455      9  \n",
       "3          0.000002     0.242    0.296   94.612      0  \n",
       "4          0.000820     0.201    0.692   90.598      5  "
      ]
     },
     "execution_count": 18,
     "metadata": {},
     "output_type": "execute_result"
    }
   ],
   "source": [
    "column=['Danceability', 'Energy', 'Loudness', 'Speechiness', 'Acousticness',\n",
    "       'Instrumentalness', 'Liveness', 'Valence', 'Tempo', 'Genre']\n",
    "X_balance=pd.DataFrame(X_sm,columns=column)\n",
    "X_balance.head()"
   ]
  },
  {
   "cell_type": "code",
   "execution_count": 19,
   "metadata": {
    "colab": {
     "base_uri": "https://localhost:8080/"
    },
    "id": "YLeHTQyH_TS_",
    "outputId": "b9cabec3-e37f-4979-9351-39876423ab51"
   },
   "outputs": [
    {
     "data": {
      "text/plain": [
       "(14302, 10)"
      ]
     },
     "execution_count": 19,
     "metadata": {},
     "output_type": "execute_result"
    }
   ],
   "source": [
    "X_balance.shape"
   ]
  },
  {
   "cell_type": "code",
   "execution_count": 20,
   "metadata": {
    "id": "iAJHFdGP_XtD"
   },
   "outputs": [],
   "source": [
    "# MinMax scaler to scale our data , since we can see that there can be units difference\n",
    "scaling=MinMaxScaler()\n",
    "X_scaled=scaling.fit_transform(X_sm)"
   ]
  },
  {
   "cell_type": "code",
   "execution_count": 21,
   "metadata": {
    "colab": {
     "base_uri": "https://localhost:8080/",
     "height": 111
    },
    "id": "96XnUIr8_aEn",
    "outputId": "7db3c121-c9e5-4ea5-d244-d2ba4e2042ba"
   },
   "outputs": [
    {
     "data": {
      "text/html": [
       "<div>\n",
       "<style scoped>\n",
       "    .dataframe tbody tr th:only-of-type {\n",
       "        vertical-align: middle;\n",
       "    }\n",
       "\n",
       "    .dataframe tbody tr th {\n",
       "        vertical-align: top;\n",
       "    }\n",
       "\n",
       "    .dataframe thead th {\n",
       "        text-align: right;\n",
       "    }\n",
       "</style>\n",
       "<table border=\"1\" class=\"dataframe\">\n",
       "  <thead>\n",
       "    <tr style=\"text-align: right;\">\n",
       "      <th></th>\n",
       "      <th>Danceability</th>\n",
       "      <th>Energy</th>\n",
       "      <th>Loudness</th>\n",
       "      <th>Speechiness</th>\n",
       "      <th>Acousticness</th>\n",
       "      <th>Instrumentalness</th>\n",
       "      <th>Liveness</th>\n",
       "      <th>Valence</th>\n",
       "      <th>Tempo</th>\n",
       "      <th>Genre</th>\n",
       "    </tr>\n",
       "  </thead>\n",
       "  <tbody>\n",
       "    <tr>\n",
       "      <th>0</th>\n",
       "      <td>0.537692</td>\n",
       "      <td>0.866212</td>\n",
       "      <td>0.810564</td>\n",
       "      <td>0.042070</td>\n",
       "      <td>0.009617</td>\n",
       "      <td>0.000000</td>\n",
       "      <td>0.202341</td>\n",
       "      <td>0.392104</td>\n",
       "      <td>0.345391</td>\n",
       "      <td>0.555556</td>\n",
       "    </tr>\n",
       "    <tr>\n",
       "      <th>1</th>\n",
       "      <td>0.734581</td>\n",
       "      <td>0.462836</td>\n",
       "      <td>0.759134</td>\n",
       "      <td>0.066651</td>\n",
       "      <td>0.008202</td>\n",
       "      <td>0.455193</td>\n",
       "      <td>0.249564</td>\n",
       "      <td>0.312722</td>\n",
       "      <td>0.455924</td>\n",
       "      <td>1.000000</td>\n",
       "    </tr>\n",
       "  </tbody>\n",
       "</table>\n",
       "</div>"
      ],
      "text/plain": [
       "   Danceability    Energy  Loudness  Speechiness  Acousticness  \\\n",
       "0      0.537692  0.866212  0.810564     0.042070      0.009617   \n",
       "1      0.734581  0.462836  0.759134     0.066651      0.008202   \n",
       "\n",
       "   Instrumentalness  Liveness   Valence     Tempo     Genre  \n",
       "0          0.000000  0.202341  0.392104  0.345391  0.555556  \n",
       "1          0.455193  0.249564  0.312722  0.455924  1.000000  "
      ]
     },
     "execution_count": 21,
     "metadata": {},
     "output_type": "execute_result"
    }
   ],
   "source": [
    "column=['Danceability', 'Energy', 'Loudness', 'Speechiness', 'Acousticness',\n",
    "       'Instrumentalness', 'Liveness', 'Valence', 'Tempo', 'Genre']\n",
    "X_final=pd.DataFrame(X_scaled,columns=column)\n",
    "X_final.head(2)"
   ]
  },
  {
   "cell_type": "code",
   "execution_count": 22,
   "metadata": {
    "colab": {
     "base_uri": "https://localhost:8080/"
    },
    "id": "Hg38oKDN_cc1",
    "outputId": "b46e63af-8a97-4882-c3cc-29805a866ff3"
   },
   "outputs": [
    {
     "data": {
      "text/plain": [
       "(14302, 10)"
      ]
     },
     "execution_count": 22,
     "metadata": {},
     "output_type": "execute_result"
    }
   ],
   "source": [
    "X_final.shape"
   ]
  },
  {
   "cell_type": "code",
   "execution_count": 23,
   "metadata": {
    "colab": {
     "base_uri": "https://localhost:8080/"
    },
    "id": "2LZpZP8P_eod",
    "outputId": "f149ef92-6908-4a1d-a210-1f5de63f022b"
   },
   "outputs": [
    {
     "name": "stdout",
     "output_type": "stream",
     "text": [
      "(11441, 10)\n",
      "(2861, 10)\n",
      "(11441,)\n",
      "(2861,)\n"
     ]
    }
   ],
   "source": [
    "# Hold-out validation\n",
    "\n",
    "X_train, X_test, y_train, y_test = train_test_split(X_final, y_sm, train_size = 0.8, test_size=0.2, random_state=1)\n",
    "\n",
    "print(X_train.shape)\n",
    "print(X_test.shape)\n",
    "\n",
    "print(y_train.shape)\n",
    "print(y_test.shape)"
   ]
  },
  {
   "cell_type": "code",
   "execution_count": 24,
   "metadata": {
    "colab": {
     "base_uri": "https://localhost:8080/",
     "height": 268
    },
    "id": "UXnjwdRu_hI3",
    "outputId": "2b651e5b-de33-46c5-cb64-c8aa0f5b82aa"
   },
   "outputs": [
    {
     "data": {
      "image/png": "[encoded data removed]",
      "text/plain": [
       "<Figure size 432x288 with 1 Axes>"
      ]
     },
     "metadata": {
      "needs_background": "light"
     },
     "output_type": "display_data"
    }
   ],
   "source": [
    "#plotting graph again to check for balanced datset\n",
    "ax = sns.countplot(x = y_train, palette = \"Set3\")"
   ]
  },
  {
   "cell_type": "markdown",
   "metadata": {
    "id": "iVKgy-snAC3E"
   },
   "source": [
    "## **KNN** "
   ]
  },
  {
   "cell_type": "code",
   "execution_count": 25,
   "metadata": {
    "id": "QVG63aM-_jeZ"
   },
   "outputs": [],
   "source": [
    "#create KNN object \n",
    "knn = KNeighborsClassifier(n_neighbors=10)"
   ]
  },
  {
   "cell_type": "code",
   "execution_count": 26,
   "metadata": {
    "colab": {
     "base_uri": "https://localhost:8080/"
    },
    "id": "iUTIVxQqANpF",
    "outputId": "66628cb1-b544-4ed3-b22a-6f405dcb8ca0"
   },
   "outputs": [
    {
     "data": {
      "text/plain": [
       "KNeighborsClassifier(n_neighbors=10)"
      ]
     },
     "execution_count": 26,
     "metadata": {},
     "output_type": "execute_result"
    }
   ],
   "source": [
    "knn.fit(X_train,y_train)"
   ]
  },
  {
   "cell_type": "code",
   "execution_count": 27,
   "metadata": {
    "id": "c43n1FhuChyM"
   },
   "outputs": [],
   "source": [
    "#Predict test data set.\n",
    "y_pred = knn.predict(X_test)\n"
   ]
  },
  {
   "cell_type": "code",
   "execution_count": 28,
   "metadata": {
    "colab": {
     "base_uri": "https://localhost:8080/"
    },
    "id": "DrRWruZHb6Df",
    "outputId": "b5015858-ab87-4533-b49d-c367e4d90d00"
   },
   "outputs": [
    {
     "data": {
      "text/plain": [
       "array([[ 950,  467],\n",
       "       [ 229, 1215]], dtype=int64)"
      ]
     },
     "execution_count": 28,
     "metadata": {},
     "output_type": "execute_result"
    }
   ],
   "source": [
    "from sklearn.metrics import confusion_matrix\n",
    "confusion_matrix(y_test, y_pred)"
   ]
  },
  {
   "cell_type": "code",
   "execution_count": 29,
   "metadata": {
    "colab": {
     "base_uri": "https://localhost:8080/"
    },
    "id": "uzZain6nDTCc",
    "outputId": "a6fe1db0-9725-4d76-f3c3-ba99dc7e141f"
   },
   "outputs": [
    {
     "name": "stdout",
     "output_type": "stream",
     "text": [
      "              precision    recall  f1-score   support\n",
      "\n",
      "           0       0.81      0.67      0.73      1417\n",
      "           1       0.72      0.84      0.78      1444\n",
      "\n",
      "    accuracy                           0.76      2861\n",
      "   macro avg       0.76      0.76      0.75      2861\n",
      "weighted avg       0.76      0.76      0.75      2861\n",
      "\n"
     ]
    }
   ],
   "source": [
    "#Checking performance our model with classification report.\n",
    "print(classification_report(y_test, y_pred))"
   ]
  },
  {
   "cell_type": "code",
   "execution_count": 30,
   "metadata": {
    "colab": {
     "base_uri": "https://localhost:8080/"
    },
    "id": "91oYxkriDVUS",
    "outputId": "9bf841e2-3a47-45a3-fb50-ea9cd014e471"
   },
   "outputs": [
    {
     "name": "stdout",
     "output_type": "stream",
     "text": [
      "75.67284166375393\n"
     ]
    }
   ],
   "source": [
    "print(accuracy_score(y_test,y_pred)*100)"
   ]
  },
  {
   "cell_type": "code",
   "execution_count": 31,
   "metadata": {
    "colab": {
     "base_uri": "https://localhost:8080/"
    },
    "id": "596p1iGXDaDB",
    "outputId": "f5fe0a25-1184-48c6-9bc1-32acb0bd94ce"
   },
   "outputs": [
    {
     "data": {
      "text/plain": [
       "0.7559216146632599"
      ]
     },
     "execution_count": 31,
     "metadata": {},
     "output_type": "execute_result"
    }
   ],
   "source": [
    "#Checking performance our model with ROC Score.\n",
    "roc_auc_score(y_test, y_pred)"
   ]
  },
  {
   "cell_type": "code",
   "execution_count": 32,
   "metadata": {
    "colab": {
     "base_uri": "https://localhost:8080/",
     "height": 404
    },
    "id": "h720v-YcY2BZ",
    "outputId": "59f29622-3223-4c5e-d0d6-25dc9071ef2e"
   },
   "outputs": [
    {
     "data": {
      "image/png": "[encoded data removed]",
      "text/plain": [
       "<Figure size 576x432 with 1 Axes>"
      ]
     },
     "metadata": {
      "needs_background": "light"
     },
     "output_type": "display_data"
    }
   ],
   "source": [
    "from sklearn import metrics\n",
    "fpr,tpr,_= metrics.roc_curve(y_test,y_pred)\n",
    "auc=metrics.roc_auc_score(y_test,y_pred)\n",
    "plt.figure(figsize=(8,6))\n",
    "plt.plot(fpr,tpr,label=\"validation,auc=\"+str(auc))\n",
    "plt.xlabel('False Positive Rate')\n",
    "plt.ylabel('True Positive rate')\n",
    "plt.title('AUC Curve for K-NN')\n",
    "plt.legend(loc=4)\n",
    "plt.show()"
   ]
  },
  {
   "cell_type": "code",
   "execution_count": null,
   "metadata": {
    "id": "RE6ll2NdQ0Do"
   },
   "outputs": [],
   "source": []
  },
  {
   "cell_type": "markdown",
   "metadata": {
    "id": "hvwZqoXeP5c2"
   },
   "source": [
    "##**Hyperparameter Tuning for K-NN**"
   ]
  },
  {
   "cell_type": "code",
   "execution_count": 33,
   "metadata": {
    "id": "s4TZ6--gNcL3"
   },
   "outputs": [],
   "source": [
    "from sklearn.model_selection import GridSearchCV\n",
    "grid_params = { 'n_neighbors' : [5,10,15,18,20,25,30],\n",
    "                'weights' : ['uniform','distance'],\n",
    "                'metric' : ['minkowski','euclidean','manhattan']}"
   ]
  },
  {
   "cell_type": "code",
   "execution_count": 34,
   "metadata": {
    "id": "GbTNL43cONxA"
   },
   "outputs": [],
   "source": [
    "gs = GridSearchCV(KNeighborsClassifier(), grid_params, verbose = 2, cv=10, n_jobs = -1)"
   ]
  },
  {
   "cell_type": "code",
   "execution_count": 35,
   "metadata": {
    "colab": {
     "base_uri": "https://localhost:8080/"
    },
    "id": "7jRP38ZkOetD",
    "outputId": "534f0e4e-77f1-4ac0-c9f5-ffaf39746e56"
   },
   "outputs": [
    {
     "name": "stdout",
     "output_type": "stream",
     "text": [
      "Fitting 10 folds for each of 42 candidates, totalling 420 fits\n"
     ]
    }
   ],
   "source": [
    "g_res = gs.fit(X_train, y_train)"
   ]
  },
  {
   "cell_type": "code",
   "execution_count": 36,
   "metadata": {
    "colab": {
     "base_uri": "https://localhost:8080/"
    },
    "id": "Pc2to8lJPCl8",
    "outputId": "fea3c28e-30f7-4798-a0f9-d2033fe4827d"
   },
   "outputs": [
    {
     "name": "stdout",
     "output_type": "stream",
     "text": [
      "KNeighborsClassifier(metric='manhattan', weights='distance') \n",
      "\n",
      "{'metric': 'manhattan', 'n_neighbors': 5, 'weights': 'distance'} \n",
      "\n",
      "79.44774554351626\n"
     ]
    }
   ],
   "source": [
    "print(gs.best_estimator_,'\\n')\n",
    "print(gs.best_params_,'\\n')\n",
    "y_gs=gs.predict(X_test)\n",
    "print(accuracy_score(y_test,y_gs)*100)"
   ]
  },
  {
   "cell_type": "code",
   "execution_count": 37,
   "metadata": {
    "colab": {
     "base_uri": "https://localhost:8080/"
    },
    "id": "MqzJlsCrP2CD",
    "outputId": "23439641-cc02-44e4-ce29-c09b8649a08e"
   },
   "outputs": [
    {
     "name": "stdout",
     "output_type": "stream",
     "text": [
      "              precision    recall  f1-score   support\n",
      "\n",
      "           0       0.90      0.66      0.76      1417\n",
      "           1       0.74      0.93      0.82      1444\n",
      "\n",
      "    accuracy                           0.79      2861\n",
      "   macro avg       0.82      0.79      0.79      2861\n",
      "weighted avg       0.82      0.79      0.79      2861\n",
      "\n"
     ]
    }
   ],
   "source": [
    "print(classification_report(y_test, y_gs))"
   ]
  },
  {
   "cell_type": "code",
   "execution_count": 38,
   "metadata": {
    "colab": {
     "base_uri": "https://localhost:8080/"
    },
    "id": "HMZ5BYzAQUd8",
    "outputId": "7eac942c-f648-4ca3-e323-317c915cf7a1"
   },
   "outputs": [
    {
     "data": {
      "text/plain": [
       "0.7932253678619533"
      ]
     },
     "execution_count": 38,
     "metadata": {},
     "output_type": "execute_result"
    }
   ],
   "source": [
    "#Checking performance our model with ROC Score.\n",
    "roc_auc_score(y_test, y_gs)"
   ]
  },
  {
   "cell_type": "code",
   "execution_count": 39,
   "metadata": {
    "colab": {
     "base_uri": "https://localhost:8080/",
     "height": 404
    },
    "id": "Akraxb_IQaIC",
    "outputId": "d35fd042-5a13-47de-e8f7-3a9524d56231"
   },
   "outputs": [
    {
     "data": {
      "image/png": "[encoded data removed]",
      "text/plain": [
       "<Figure size 576x432 with 1 Axes>"
      ]
     },
     "metadata": {
      "needs_background": "light"
     },
     "output_type": "display_data"
    }
   ],
   "source": [
    "from sklearn import metrics\n",
    "fpr,tpr,_= metrics.roc_curve(y_test,y_pred)\n",
    "auc=metrics.roc_auc_score(y_test,y_gs)\n",
    "plt.figure(figsize=(8,6))\n",
    "plt.plot(fpr,tpr,label=\"validation,auc=\"+str(auc))\n",
    "plt.xlabel('False Positive Rate')\n",
    "plt.ylabel('True Positive rate')\n",
    "plt.title('AUC Curve for K-NN')\n",
    "plt.legend(loc=4)\n",
    "plt.show()"
   ]
  },
  {
   "cell_type": "markdown",
   "metadata": {
    "id": "cobRdFJIQndF"
   },
   "source": [
    "## **LDA**  - Linear Discriminant Analysis"
   ]
  },
  {
   "cell_type": "code",
   "execution_count": 40,
   "metadata": {
    "id": "YGEfRAG7Xhm7"
   },
   "outputs": [],
   "source": [
    "from sklearn.discriminant_analysis import LinearDiscriminantAnalysis\n",
    "lda=LinearDiscriminantAnalysis()\n",
    "lda.fit(X_train,y_train)\n",
    "lda_pred = lda.predict(X_test)"
   ]
  },
  {
   "cell_type": "code",
   "execution_count": 41,
   "metadata": {
    "colab": {
     "base_uri": "https://localhost:8080/"
    },
    "id": "8Q9kWimJcy9V",
    "outputId": "4aac37ce-9ac9-4a7f-e601-406a07c151d1"
   },
   "outputs": [
    {
     "data": {
      "text/plain": [
       "array([[ 826,  591],\n",
       "       [ 334, 1110]], dtype=int64)"
      ]
     },
     "execution_count": 41,
     "metadata": {},
     "output_type": "execute_result"
    }
   ],
   "source": [
    "from sklearn.metrics import confusion_matrix\n",
    "confusion_matrix(y_test, lda_pred)"
   ]
  },
  {
   "cell_type": "code",
   "execution_count": 42,
   "metadata": {
    "colab": {
     "base_uri": "https://localhost:8080/"
    },
    "id": "wTOI8PXhX2dN",
    "outputId": "85f3e3da-67c9-4859-a7e0-b7b08b8d79eb"
   },
   "outputs": [
    {
     "name": "stdout",
     "output_type": "stream",
     "text": [
      "              precision    recall  f1-score   support\n",
      "\n",
      "           0       0.71      0.58      0.64      1417\n",
      "           1       0.65      0.77      0.71      1444\n",
      "\n",
      "    accuracy                           0.68      2861\n",
      "   macro avg       0.68      0.68      0.67      2861\n",
      "weighted avg       0.68      0.68      0.67      2861\n",
      "\n"
     ]
    }
   ],
   "source": [
    "#Checking performance our model with classification report.\n",
    "print(classification_report(y_test, lda_pred))"
   ]
  },
  {
   "cell_type": "code",
   "execution_count": 43,
   "metadata": {
    "colab": {
     "base_uri": "https://localhost:8080/"
    },
    "id": "kfmYRsnKX6q3",
    "outputId": "119364d2-e6fc-4e78-9239-3df89fe0f251"
   },
   "outputs": [
    {
     "name": "stdout",
     "output_type": "stream",
     "text": [
      "67.66864732610975\n"
     ]
    }
   ],
   "source": [
    "#Accuracy score\n",
    "print(accuracy_score(y_test,lda_pred)*100)"
   ]
  },
  {
   "cell_type": "code",
   "execution_count": 44,
   "metadata": {
    "colab": {
     "base_uri": "https://localhost:8080/"
    },
    "id": "wDmLOY1bX-dG",
    "outputId": "cd6b377c-4185-4036-e613-75d71e18b30b"
   },
   "outputs": [
    {
     "data": {
      "text/plain": [
       "0.6758098632161504"
      ]
     },
     "execution_count": 44,
     "metadata": {},
     "output_type": "execute_result"
    }
   ],
   "source": [
    "#Checking performance our model with ROC Score.\n",
    "roc_auc_score(y_test, lda_pred)"
   ]
  },
  {
   "cell_type": "code",
   "execution_count": 45,
   "metadata": {
    "colab": {
     "base_uri": "https://localhost:8080/",
     "height": 404
    },
    "id": "wJ6pW4IeXZgb",
    "outputId": "2464839d-a1ac-4caa-b633-705ca8dfceb8"
   },
   "outputs": [
    {
     "data": {
      "image/png": "[encoded data removed]",
      "text/plain": [
       "<Figure size 576x432 with 1 Axes>"
      ]
     },
     "metadata": {
      "needs_background": "light"
     },
     "output_type": "display_data"
    }
   ],
   "source": [
    "from sklearn import metrics\n",
    "fpr,tpr,_= metrics.roc_curve(y_test,lda_pred)\n",
    "auc=metrics.roc_auc_score(y_test,lda_pred)\n",
    "plt.figure(figsize=(8,6))\n",
    "plt.plot(fpr,tpr,label=\"validation,auc=\"+str(auc))\n",
    "plt.xlabel('False Positive Rate')\n",
    "plt.ylabel('True Positive rate')\n",
    "plt.title(\"AUC Curve for LDA\")\n",
    "plt.legend(loc=4)\n",
    "plt.show()"
   ]
  },
  {
   "cell_type": "code",
   "execution_count": 46,
   "metadata": {},
   "outputs": [],
   "source": [
    "pickle.dump(gs.best_estimator_, open('model.pkl','wb'))"
   ]
  },
  {
   "cell_type": "code",
   "execution_count": 47,
   "metadata": {},
   "outputs": [],
   "source": [
    "model=pickle.load(open('model.pkl','rb'))"
   ]
  },
  {
   "cell_type": "code",
   "execution_count": 48,
   "metadata": {},
   "outputs": [
    {
     "data": {
      "text/plain": [
       "KNeighborsClassifier(metric='manhattan', weights='distance')"
      ]
     },
     "execution_count": 48,
     "metadata": {},
     "output_type": "execute_result"
    }
   ],
   "source": [
    "model"
   ]
  },
  {
   "cell_type": "code",
   "execution_count": 49,
   "metadata": {},
   "outputs": [],
   "source": [
    "#import joblib\n",
    "#pickle_out=open(\"knn_flask.pkl\",\"wb\")\n",
    "#joblib.dump(gs.best_estimator_,\"gs.best_estimator_.pkl\")"
   ]
  },
  {
   "cell_type": "code",
   "execution_count": 50,
   "metadata": {},
   "outputs": [],
   "source": [
    "#loaded_model=joblib.load(open(\"gs.best_estimator_.pkl\",\"rb\"))\n",
    "#loaded_model"
   ]
  }
 ],
 "metadata": {
  "colab": {
   "collapsed_sections": [],
   "name": "Copy of KNN_final.ipynb",
   "provenance": []
  },
  "kernelspec": {
   "display_name": "Python 3",
   "language": "python",
   "name": "python3"
  },
  "language_info": {
   "codemirror_mode": {
    "name": "ipython",
    "version": 3
   },
   "file_extension": ".py",
   "mimetype": "text/x-python",
   "name": "python",
   "nbconvert_exporter": "python",
   "pygments_lexer": "ipython3",
   "version": "3.8.8"
  }
 },
 "nbformat": 4,
 "nbformat_minor": 1
}
